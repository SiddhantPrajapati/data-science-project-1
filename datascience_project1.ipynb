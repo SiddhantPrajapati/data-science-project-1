{
  "nbformat": 4,
  "nbformat_minor": 0,
  "metadata": {
    "colab": {
      "provenance": []
    },
    "kernelspec": {
      "name": "python3",
      "display_name": "Python 3"
    },
    "language_info": {
      "name": "python"
    }
  },
  "cells": [
    {
      "cell_type": "code",
      "execution_count": 1,
      "metadata": {
        "colab": {
          "base_uri": "https://localhost:8080/"
        },
        "id": "BFfQ-ffB2fgq",
        "outputId": "39456ba6-7728-46fb-a9a5-55ecd812c8e5"
      },
      "outputs": [
        {
          "output_type": "stream",
          "name": "stdout",
          "text": [
            "Mounted at /content/drive\n"
          ]
        }
      ],
      "source": [
        "#data science project 1\n",
        "\n",
        "#create mount google drive\n",
        "from google.colab import drive\n",
        "drive.mount('/content/drive')"
      ]
    },
    {
      "cell_type": "code",
      "source": [
        "#import library and required file to perform task\n",
        "import csv\n",
        "import pandas as pd\n",
        "import matplotlib.pyplot as plt\n",
        "\n",
        "#read gender_submission file\n",
        "gender = pd.read_csv('/content/drive/MyDrive/Python_File/gender_submission.csv')\n",
        "\n",
        "#read test file\n",
        "test = pd.read_csv('/content/drive/MyDrive/Python_File/test.csv')\n",
        "\n",
        "#read train file\n",
        "train = pd.read_csv('/content/drive/MyDrive/Python_File/train.csv')\n",
        "\n",
        "#print(gender)\n",
        "#print(test)\n",
        "#print(train)\n",
        "\n",
        "#convert 3 csv file into data frame\n",
        "df1 = pd.DataFrame(gender)\n",
        "df2 = pd.DataFrame(test)\n",
        "df3 = pd.DataFrame(train)\n",
        "\n",
        "#........CREATING DATA.........#\n",
        "#converting df1's column no 1 into a list\n",
        "survive = df1[\"Survived\"].tolist()\n",
        "\n",
        "#insert list into the df2's column no 2\n",
        "df2.insert(1,'Survived',survive,True)\n",
        "\n",
        "#append df2 at the end of df3\n",
        "df=df3.append(df2)\n",
        "\n",
        "#reset index\n",
        "df.reset_index(inplace = True, drop = True)\n",
        "\n",
        "#print combined data\n",
        "#print(df)\n",
        "\n",
        "#find duplicates\n",
        "duplicate = df[df.duplicated()]\n",
        "#print(duplicate)\n",
        "\n",
        "#missing value print with respect to age\n",
        "miss = pd.isnull(df[\"Age\"])\n",
        "#print(miss)\n",
        "\n",
        "#fill missing value with average age\n",
        "#print(round(df.fillna(df[\"Age\"].mean())))\n",
        "  \n",
        "\n"
      ],
      "metadata": {
        "colab": {
          "base_uri": "https://localhost:8080/"
        },
        "id": "NHYEhfcRjDMo",
        "outputId": "21b48c5b-08f9-4089-bea9-80ad6115ae43"
      },
      "execution_count": 17,
      "outputs": [
        {
          "output_type": "stream",
          "name": "stdout",
          "text": [
            "      PassengerId  Survived  Pclass  \\\n",
            "0               1         0       3   \n",
            "1               2         1       1   \n",
            "2               3         1       3   \n",
            "3               4         1       1   \n",
            "4               5         0       3   \n",
            "...           ...       ...     ...   \n",
            "1304         1305         0       3   \n",
            "1305         1306         1       1   \n",
            "1306         1307         0       3   \n",
            "1307         1308         0       3   \n",
            "1308         1309         0       3   \n",
            "\n",
            "                                                   Name     Sex   Age  SibSp  \\\n",
            "0                               Braund, Mr. Owen Harris    male  22.0      1   \n",
            "1     Cumings, Mrs. John Bradley (Florence Briggs Th...  female  38.0      1   \n",
            "2                                Heikkinen, Miss. Laina  female  26.0      0   \n",
            "3          Futrelle, Mrs. Jacques Heath (Lily May Peel)  female  35.0      1   \n",
            "4                              Allen, Mr. William Henry    male  35.0      0   \n",
            "...                                                 ...     ...   ...    ...   \n",
            "1304                                 Spector, Mr. Woolf    male  30.0      0   \n",
            "1305                       Oliva y Ocana, Dona. Fermina  female  39.0      0   \n",
            "1306                       Saether, Mr. Simon Sivertsen    male  38.0      0   \n",
            "1307                                Ware, Mr. Frederick    male  30.0      0   \n",
            "1308                           Peter, Master. Michael J    male  30.0      1   \n",
            "\n",
            "      Parch              Ticket   Fare      Cabin Embarked  \n",
            "0         0           A/5 21171    7.0  29.881138        S  \n",
            "1         0            PC 17599   71.0        C85        C  \n",
            "2         0    STON/O2. 3101282    8.0  29.881138        S  \n",
            "3         0              113803   53.0       C123        S  \n",
            "4         0              373450    8.0  29.881138        S  \n",
            "...     ...                 ...    ...        ...      ...  \n",
            "1304      0           A.5. 3236    8.0  29.881138        S  \n",
            "1305      0            PC 17758  109.0       C105        C  \n",
            "1306      0  SOTON/O.Q. 3101262    7.0  29.881138        S  \n",
            "1307      0              359309    8.0  29.881138        S  \n",
            "1308      1                2668   22.0  29.881138        C  \n",
            "\n",
            "[1309 rows x 12 columns]\n"
          ]
        }
      ]
    }
  ]
}